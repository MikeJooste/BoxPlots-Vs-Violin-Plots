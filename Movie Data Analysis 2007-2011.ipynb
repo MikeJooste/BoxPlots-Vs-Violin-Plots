{
 "cells": [
  {
   "cell_type": "markdown",
   "metadata": {},
   "source": [
    "# Introduction "
   ]
  },
  {
   "cell_type": "raw",
   "metadata": {},
   "source": [
    "This project demonstrates the usefulness of boxplots and violinplots in unpacking the underlying relationships in the data. Actionable metrics are extracted by examining which Genres score the highest in Critic and Audience Rating in relation to movie budgets. So in terms of actionable insights these would be useful insights for Movie Producers to understand and absorb.  "
   ]
  },
  {
   "cell_type": "markdown",
   "metadata": {},
   "source": [
    "# Libraries "
   ]
  },
  {
   "cell_type": "code",
   "execution_count": 3,
   "metadata": {},
   "outputs": [
    {
     "data": {
      "text/plain": [
       "'C:\\\\Users\\\\mike\\\\documents\\\\Python Training'"
      ]
     },
     "execution_count": 3,
     "metadata": {},
     "output_type": "execute_result"
    }
   ],
   "source": [
    "#Import Pandas for dataframe processing, Os for workind directory changes, and seaborn for visualisations\n",
    "import pandas as pd \n",
    "import os \n",
    "import seaborn as sns\n",
    "from matplotlib import pyplot as plt \n",
    "%matplotlib inline \n",
    "import warnings \n",
    "warnings.filterwarnings('ignore')\n",
    "os.chdir('C:\\\\Users\\\\mike\\\\documents\\Python Training')\n",
    "os.getcwd()"
   ]
  },
  {
   "cell_type": "markdown",
   "metadata": {},
   "source": [
    "# Loading the data"
   ]
  },
  {
   "cell_type": "code",
   "execution_count": 4,
   "metadata": {
    "scrolled": true
   },
   "outputs": [
    {
     "data": {
      "text/html": [
       "<div>\n",
       "<style scoped>\n",
       "    .dataframe tbody tr th:only-of-type {\n",
       "        vertical-align: middle;\n",
       "    }\n",
       "\n",
       "    .dataframe tbody tr th {\n",
       "        vertical-align: top;\n",
       "    }\n",
       "\n",
       "    .dataframe thead th {\n",
       "        text-align: right;\n",
       "    }\n",
       "</style>\n",
       "<table border=\"1\" class=\"dataframe\">\n",
       "  <thead>\n",
       "    <tr style=\"text-align: right;\">\n",
       "      <th></th>\n",
       "      <th>Film</th>\n",
       "      <th>Genre</th>\n",
       "      <th>CriticRating</th>\n",
       "      <th>AudienceRating</th>\n",
       "      <th>Budget</th>\n",
       "      <th>Year</th>\n",
       "    </tr>\n",
       "  </thead>\n",
       "  <tbody>\n",
       "    <tr>\n",
       "      <th>0</th>\n",
       "      <td>(500) Days of Summer</td>\n",
       "      <td>Comedy</td>\n",
       "      <td>87</td>\n",
       "      <td>81</td>\n",
       "      <td>8</td>\n",
       "      <td>2009</td>\n",
       "    </tr>\n",
       "    <tr>\n",
       "      <th>1</th>\n",
       "      <td>10,000 B.C.</td>\n",
       "      <td>Adventure</td>\n",
       "      <td>9</td>\n",
       "      <td>44</td>\n",
       "      <td>105</td>\n",
       "      <td>2008</td>\n",
       "    </tr>\n",
       "    <tr>\n",
       "      <th>2</th>\n",
       "      <td>12 Rounds</td>\n",
       "      <td>Action</td>\n",
       "      <td>30</td>\n",
       "      <td>52</td>\n",
       "      <td>20</td>\n",
       "      <td>2009</td>\n",
       "    </tr>\n",
       "    <tr>\n",
       "      <th>3</th>\n",
       "      <td>127 Hours</td>\n",
       "      <td>Adventure</td>\n",
       "      <td>93</td>\n",
       "      <td>84</td>\n",
       "      <td>18</td>\n",
       "      <td>2010</td>\n",
       "    </tr>\n",
       "    <tr>\n",
       "      <th>4</th>\n",
       "      <td>17 Again</td>\n",
       "      <td>Comedy</td>\n",
       "      <td>55</td>\n",
       "      <td>70</td>\n",
       "      <td>20</td>\n",
       "      <td>2009</td>\n",
       "    </tr>\n",
       "  </tbody>\n",
       "</table>\n",
       "</div>"
      ],
      "text/plain": [
       "                    Film      Genre  CriticRating  AudienceRating  Budget  \\\n",
       "0  (500) Days of Summer      Comedy            87              81       8   \n",
       "1            10,000 B.C.  Adventure             9              44     105   \n",
       "2             12 Rounds      Action            30              52      20   \n",
       "3              127 Hours  Adventure            93              84      18   \n",
       "4              17 Again      Comedy            55              70      20   \n",
       "\n",
       "   Year  \n",
       "0  2009  \n",
       "1  2008  \n",
       "2  2009  \n",
       "3  2010  \n",
       "4  2009  "
      ]
     },
     "execution_count": 4,
     "metadata": {},
     "output_type": "execute_result"
    }
   ],
   "source": [
    "movies= pd.read_csv('P4-Movie-Ratings.csv')\n",
    "#rename columns\n",
    "movies.columns=['Film', 'Genre','CriticRating','AudienceRating', 'Budget', 'Year']\n",
    "movies.head()\n",
    "Filter1=movies.Genre=='Action'\n",
    "Filter2=movies.CriticRating>30\n",
    "movies[Filter1&Filter2]\n",
    "movies.head()"
   ]
  },
  {
   "cell_type": "markdown",
   "metadata": {},
   "source": [
    "# Groupby Functions "
   ]
  },
  {
   "cell_type": "raw",
   "metadata": {},
   "source": [
    "If we wanted to find out what Genre has the highest budget spend overall we can run the code below, and see that Action Movies generally have the highest budget spend. This is quite similar to the pivot functionality in excel. "
   ]
  },
  {
   "cell_type": "code",
   "execution_count": 5,
   "metadata": {
    "scrolled": true
   },
   "outputs": [
    {
     "data": {
      "text/html": [
       "<div>\n",
       "<style scoped>\n",
       "    .dataframe tbody tr th:only-of-type {\n",
       "        vertical-align: middle;\n",
       "    }\n",
       "\n",
       "    .dataframe tbody tr th {\n",
       "        vertical-align: top;\n",
       "    }\n",
       "\n",
       "    .dataframe thead th {\n",
       "        text-align: right;\n",
       "    }\n",
       "</style>\n",
       "<table border=\"1\" class=\"dataframe\">\n",
       "  <thead>\n",
       "    <tr style=\"text-align: right;\">\n",
       "      <th></th>\n",
       "      <th>CriticRating</th>\n",
       "      <th>AudienceRating</th>\n",
       "      <th>Budget</th>\n",
       "      <th>Year</th>\n",
       "    </tr>\n",
       "    <tr>\n",
       "      <th>Genre</th>\n",
       "      <th></th>\n",
       "      <th></th>\n",
       "      <th></th>\n",
       "      <th></th>\n",
       "    </tr>\n",
       "  </thead>\n",
       "  <tbody>\n",
       "    <tr>\n",
       "      <th>Action</th>\n",
       "      <td>6838</td>\n",
       "      <td>9043</td>\n",
       "      <td>13033</td>\n",
       "      <td>309418</td>\n",
       "    </tr>\n",
       "    <tr>\n",
       "      <th>Adventure</th>\n",
       "      <td>1540</td>\n",
       "      <td>1819</td>\n",
       "      <td>2363</td>\n",
       "      <td>58256</td>\n",
       "    </tr>\n",
       "    <tr>\n",
       "      <th>Comedy</th>\n",
       "      <td>7726</td>\n",
       "      <td>9702</td>\n",
       "      <td>6211</td>\n",
       "      <td>345560</td>\n",
       "    </tr>\n",
       "    <tr>\n",
       "      <th>Drama</th>\n",
       "      <td>5704</td>\n",
       "      <td>6507</td>\n",
       "      <td>2813</td>\n",
       "      <td>202937</td>\n",
       "    </tr>\n",
       "    <tr>\n",
       "      <th>Horror</th>\n",
       "      <td>1694</td>\n",
       "      <td>2322</td>\n",
       "      <td>1062</td>\n",
       "      <td>98447</td>\n",
       "    </tr>\n",
       "    <tr>\n",
       "      <th>Romance</th>\n",
       "      <td>817</td>\n",
       "      <td>1084</td>\n",
       "      <td>632</td>\n",
       "      <td>36175</td>\n",
       "    </tr>\n",
       "    <tr>\n",
       "      <th>Thriller</th>\n",
       "      <td>2127</td>\n",
       "      <td>2361</td>\n",
       "      <td>1968</td>\n",
       "      <td>72323</td>\n",
       "    </tr>\n",
       "  </tbody>\n",
       "</table>\n",
       "</div>"
      ],
      "text/plain": [
       "           CriticRating  AudienceRating  Budget    Year\n",
       "Genre                                                  \n",
       "Action             6838            9043   13033  309418\n",
       "Adventure          1540            1819    2363   58256\n",
       "Comedy             7726            9702    6211  345560\n",
       "Drama              5704            6507    2813  202937\n",
       "Horror             1694            2322    1062   98447\n",
       "Romance             817            1084     632   36175\n",
       "Thriller           2127            2361    1968   72323"
      ]
     },
     "execution_count": 5,
     "metadata": {},
     "output_type": "execute_result"
    }
   ],
   "source": [
    "movies.groupby(['Genre']).sum()"
   ]
  },
  {
   "cell_type": "code",
   "execution_count": 6,
   "metadata": {},
   "outputs": [],
   "source": [
    "def name_plot(Genre):\n",
    "    data = all_names_index.loc[sex, name]"
   ]
  },
  {
   "cell_type": "markdown",
   "metadata": {},
   "source": [
    "## Macro View Visualisation: Stacked Histogram"
   ]
  },
  {
   "cell_type": "raw",
   "metadata": {},
   "source": [
    "Its good practice to start your EDA at a macro-level and then begin refining down the focus to a more granular level, I like to start with something like a histogram to get an overall view of how the data is interacting. "
   ]
  },
  {
   "cell_type": "code",
   "execution_count": 7,
   "metadata": {},
   "outputs": [
    {
     "name": "stderr",
     "output_type": "stream",
     "text": [
      "findfont: Font family ['Console'] not found. Falling back to DejaVu Sans.\n"
     ]
    },
    {
     "data": {
      "image/png": "[encoded data removed]",
      "text/plain": [
       "<Figure size 842.4x595.44 with 1 Axes>"
      ]
     },
     "metadata": {},
     "output_type": "display_data"
    }
   ],
   "source": [
    "import seaborn as sns\n",
    "from matplotlib import pyplot as plt\n",
    "movies['Genre']=movies.Genre.astype('category')\n",
    "list1 =list()\n",
    "mylabels=list()\n",
    "for gen in movies.Genre.cat.categories: \n",
    "    list1.append(movies[movies.Genre==gen].Budget)\n",
    "    mylabels.append(gen)\n",
    "sns.set_style('whitegrid')\n",
    "fig, ax =plt.subplots()\n",
    "fig.set_size_inches(11.7, 8.27) #size of A4 paper \n",
    "   \n",
    "h=plt.hist(list1,bins=30, stacked=True,rwidth=1, label=mylabels)\n",
    "plt.title('Movie Budget Distribution', fontsize=30,\\\n",
    "         color='black', fontname='Console')\n",
    "plt.ylabel('Numbe of Movies', fontsize=20,color='red')\n",
    "plt.xlabel(\"Budget\", fontsize=20, color='green')\n",
    "plt.xticks(fontsize=20)\n",
    "plt.yticks(fontsize=20)\n",
    "plt.legend(fancybox= True,shadow=True, prop={'size':20})\n",
    "plt.show()\n"
   ]
  },
  {
   "cell_type": "markdown",
   "metadata": {},
   "source": [
    "# Box Plots \n"
   ]
  },
  {
   "cell_type": "raw",
   "metadata": {},
   "source": [
    "Background: \n",
    "In order to understand what a BoxPlot is telling us some background is needed. A BoxPlot is constructed from 4 quartile, with 25% of the observations falling into each quartile. This means that a stretched out BoxPlot has a greater variation of results contained in it, while a more compact BoxPlot has a smaller variation of result values contained within it and, caveats withstanding, is generally preferable. The line in the middle of the BoxPlot represents the median value of the results and gives an indication of what your median outcome will be, all things being equal. "
   ]
  },
  {
   "cell_type": "raw",
   "metadata": {},
   "source": [
    "BoxPlot Explanation:\n",
    "The two boxplots below are shown side by side in order to give an analysis of the underlying trends and the actionable insights that can be gleaned from them. Looking at Fig1 we can see that the Genre with highest median rating are \"Thrillers\" it also exhibits the lowest spread of observations as evidenced by the size of boxplot. Looking at Fig2 we can also see that \"Thrillers\" also have a relatively low budget. So all things being equal from a pure ROI perspective, financing a Thriller for a production house should prove to have the highest return, if you accept that a higher Audience rating results in improved turnover. "
   ]
  },
  {
   "cell_type": "code",
   "execution_count": 8,
   "metadata": {
    "scrolled": false
   },
   "outputs": [
    {
     "data": {
      "image/png": "[encoded data removed]",
      "text/plain": [
       "<Figure size 1080x1080 with 2 Axes>"
      ]
     },
     "metadata": {},
     "output_type": "display_data"
    }
   ],
   "source": [
    "#Box Plots using Subplots\n",
    "f, axes =plt.subplots(1,2,figsize=(15,15),sharex=True)\n",
    "sns.set_style(('white'), {'axes.facecolor':\"gray\"})\n",
    "x=sns.boxplot(data=movies, x='Genre',y='AudienceRating',ax=axes[0]).set_title('Fig1:Audience Rating Range by Year_BoxPlot')\n",
    "z=sns.boxplot(data=movies, x='Genre',y='Budget',ax=axes[1]).set_title('Fig2: Budget Range by Genre_BoxPlot')"
   ]
  },
  {
   "cell_type": "markdown",
   "metadata": {},
   "source": [
    "# Identifying Outliers "
   ]
  },
  {
   "cell_type": "raw",
   "metadata": {},
   "source": [
    "Just for interest sake in order to identify the outlier that is present in figure 2 within the Action Genre we can run the below code and determine that it is \"Pirates of the Caribean: At Worlds end\"  "
   ]
  },
  {
   "cell_type": "code",
   "execution_count": 9,
   "metadata": {
    "scrolled": false
   },
   "outputs": [
    {
     "data": {
      "text/html": [
       "<div>\n",
       "<style scoped>\n",
       "    .dataframe tbody tr th:only-of-type {\n",
       "        vertical-align: middle;\n",
       "    }\n",
       "\n",
       "    .dataframe tbody tr th {\n",
       "        vertical-align: top;\n",
       "    }\n",
       "\n",
       "    .dataframe thead th {\n",
       "        text-align: right;\n",
       "    }\n",
       "</style>\n",
       "<table border=\"1\" class=\"dataframe\">\n",
       "  <thead>\n",
       "    <tr style=\"text-align: right;\">\n",
       "      <th></th>\n",
       "      <th>Film</th>\n",
       "      <th>Genre</th>\n",
       "      <th>CriticRating</th>\n",
       "      <th>AudienceRating</th>\n",
       "      <th>Budget</th>\n",
       "      <th>Year</th>\n",
       "    </tr>\n",
       "  </thead>\n",
       "  <tbody>\n",
       "    <tr>\n",
       "      <th>304</th>\n",
       "      <td>Pirates of the Caribbean: At World's End</td>\n",
       "      <td>Action</td>\n",
       "      <td>45</td>\n",
       "      <td>74</td>\n",
       "      <td>300</td>\n",
       "      <td>2007</td>\n",
       "    </tr>\n",
       "  </tbody>\n",
       "</table>\n",
       "</div>"
      ],
      "text/plain": [
       "                                         Film   Genre  CriticRating  \\\n",
       "304  Pirates of the Caribbean: At World's End  Action            45   \n",
       "\n",
       "     AudienceRating  Budget  Year  \n",
       "304              74     300  2007  "
      ]
     },
     "execution_count": 9,
     "metadata": {},
     "output_type": "execute_result"
    }
   ],
   "source": [
    "Filter3=movies.Budget>290\n",
    "movies[Filter3]"
   ]
  },
  {
   "cell_type": "markdown",
   "metadata": {},
   "source": [
    "# Conclusion "
   ]
  },
  {
   "cell_type": "raw",
   "metadata": {},
   "source": [
    "In conclusion we have conducted some exploratory data analysis of the underlying found some outliers, extracted general insights, visualised some data on the way and crucially we have managed to extract an important actionable data insight that could guide the movie producers on which genre of film will produce the best return on investment.  "
   ]
  }
 ],
 "metadata": {
  "kernelspec": {
   "display_name": "Python 3",
   "language": "python",
   "name": "python3"
  },
  "language_info": {
   "codemirror_mode": {
    "name": "ipython",
    "version": 3
   },
   "file_extension": ".py",
   "mimetype": "text/x-python",
   "name": "python",
   "nbconvert_exporter": "python",
   "pygments_lexer": "ipython3",
   "version": "3.7.6"
  }
 },
 "nbformat": 4,
 "nbformat_minor": 4
}
